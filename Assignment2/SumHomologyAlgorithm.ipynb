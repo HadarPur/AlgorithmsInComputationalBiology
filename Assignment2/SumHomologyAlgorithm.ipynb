{
  "nbformat": 4,
  "nbformat_minor": 0,
  "metadata": {
    "colab": {
      "name": "Copy of SumHomology Algorithm",
      "provenance": [],
      "collapsed_sections": []
    },
    "kernelspec": {
      "name": "python3",
      "display_name": "Python 3"
    }
  },
  "cells": [
    {
      "cell_type": "markdown",
      "metadata": {
        "id": "jzsSvNmsB2I1"
      },
      "source": [
        "## **** SumHomology ****\n",
        "\n",
        "Submit:\n",
        "*   Ilay Anais \n",
        "*   Hadar Pur\n",
        "\n",
        "Problem 4:\n",
        "\n",
        "Write a short computer program (in your language of choice) that computes sumHomology(S,T) for the two sequences below:\n",
        "\n",
        "S = ATAAGGCATTGACCGTATTGCCAA\n",
        "\n",
        "T = CCCATAGGTGCGGTAGCC\n",
        "\n",
        "under TethaH defined as follows:\n",
        "p(x,x) = 32/160, p(x,y) = 2/160 (x≠y), and p(x,-)= p(-,x)= 1/160.\n",
        "\n",
        "• Notice that these probabilities are normalized to sum up to 1 when considering all 24 options for possible alignment columns. These values are consistent (up to a constant additive factor) with the scoring function used in the previous homework assignment: (Sigma(*,*) = log2(p(*,*)) + log2(20))\n",
        "Sigma(x,x) = 2, Sigma(x,y) = -2 (x≠y), and Sigma(x,-)= Sigma(-,x)=-3.\n",
        "\n",
        "• Make sure that your program’s space requirements are linear in the short sequence (T in this case). Note that you do not have to output an alignment here, so no need to use Hirschberg’s trick that uses the “mid-point” of the alignment.\n",
        "\n",
        "• Write down the sumHomology score that you received for S and T, and submit your code as appendix."
      ]
    },
    {
      "cell_type": "markdown",
      "metadata": {
        "id": "EWkSLH-TCVmG"
      },
      "source": [
        "# **** Imports ****"
      ]
    },
    {
      "cell_type": "code",
      "metadata": {
        "id": "PmE2dMMICaTb"
      },
      "source": [
        "import numpy as np\n",
        "import itertools\n",
        "import math"
      ],
      "execution_count": null,
      "outputs": []
    },
    {
      "cell_type": "markdown",
      "metadata": {
        "id": "dioXp1uLDCJz"
      },
      "source": [
        "## **** Global vars ****\n"
      ]
    },
    {
      "cell_type": "code",
      "metadata": {
        "id": "_1jyBzhWCiOn"
      },
      "source": [
        "# Parameters:\n",
        "matchParameter = 32/160\n",
        "mismatchParameter = 2/160\n",
        "gapParameter = 1/160\n",
        "\n",
        "# score function (for 3C)\n",
        "matchScore = 2\n",
        "mismatchScore = -2\n",
        "gapScore = -3\n",
        "\n",
        "# Sequences\n",
        "S = \"ATAAGGCATTGACCGTATTGCCAA\"\n",
        "T = \"CCCATAGGTGCGGTAGCC\""
      ],
      "execution_count": null,
      "outputs": []
    },
    {
      "cell_type": "markdown",
      "metadata": {
        "id": "d_1HG21JDdaB"
      },
      "source": [
        "## **** SumHomology Algorithm ****\n"
      ]
    },
    {
      "cell_type": "code",
      "metadata": {
        "id": "6ZZYJBwhDihW"
      },
      "source": [
        "def sumHomology(seq1, seq2, match, mismatch, gap):\n",
        "  #Create empty arrays A and B with cells indexed minimum of n or m\n",
        "  #Initialize A and B to 1 values\n",
        "  A = np.zeros(min(len(seq1)+1, len(seq2)+1), np.float)\n",
        "  B = np.zeros(min(len(seq1)+1, len(seq2)+1), np.float)\n",
        "\n",
        "  A[0] = 1\n",
        "\n",
        "  #we make sure seq2 is the shorter one for looping purposes\n",
        "  if len(seq1) < len(seq2):\n",
        "    temp = seq1\n",
        "    seq1 = seq2\n",
        "    seq2 = temp\n",
        "      \n",
        "  # main loop O(mn) due to each step taking constant time and going over all i and j is lengths of each sequence + 1\n",
        "  for i in range(1, len(seq1) + 1):\n",
        "    for j in range(1, len(seq2) + 1):\n",
        "      matchProb = A[j - 1] * (match if seq1[i - 1] == seq2[j - 1] else mismatch)\n",
        "      gapTProb = B[j - 1] * gap\n",
        "      gapSProb = A[j] * gap\n",
        "\n",
        "      B[j] = sum([matchProb, gapTProb, gapSProb])\n",
        "\n",
        "    A = B.copy()\n",
        "    B = np.zeros(len(seq2) + 1, np.float)\n",
        "\n",
        "  return A[-1]"
      ],
      "execution_count": null,
      "outputs": []
    },
    {
      "cell_type": "code",
      "metadata": {
        "colab": {
          "base_uri": "https://localhost:8080/"
        },
        "id": "E25xem-YIxJm",
        "outputId": "4b237a1c-f5ac-4daa-94c6-6c8ae6975ff9"
      },
      "source": [
        "# 3-b\n",
        "sumOf = sumHomology(S, T, matchParameter, mismatchParameter, gapParameter)\n",
        "\n",
        "print(\"sumHomology is \", sumOf, \"for \\nS = \", S ,\" \\nT = \", T)"
      ],
      "execution_count": null,
      "outputs": [
        {
          "output_type": "stream",
          "text": [
            "sumHomology is  8.748608389104158e-35 for \n",
            "S =  ATAAGGCATTGACCGTATTGCCAA  \n",
            "T =  CCCATAGGTGCGGTAGCC\n"
          ],
          "name": "stdout"
        }
      ]
    },
    {
      "cell_type": "code",
      "metadata": {
        "id": "_mhFgTxXTJ1x",
        "colab": {
          "base_uri": "https://localhost:8080/"
        },
        "outputId": "1e60d57c-121b-4a3d-b08f-173a2a29c9c6"
      },
      "source": [
        "# 3-c\n",
        "n = 0\n",
        "sumOfAll = 1;\n",
        "\n",
        "while sumOf > 0:\n",
        "  S1 = 'T'*n + 'GATTAAGCCAAGGTTCCCCG'\n",
        "  sumOf = sumHomology(S1, T, matchParameter, mismatchParameter, gapParameter)\n",
        "  n += 1\n",
        "\n",
        "print(\"sumHomology reached out to 0 after \",n ,\" times for \\nS = \", S1 ,\" \\nT = \", T)"
      ],
      "execution_count": null,
      "outputs": [
        {
          "output_type": "stream",
          "text": [
            "sumHomology reached out to 0 after  144  times for \n",
            "S =  TTTTTTTTTTTTTTTTTTTTTTTTTTTTTTTTTTTTTTTTTTTTTTTTTTTTTTTTTTTTTTTTTTTTTTTTTTTTTTTTTTTTTTTTTTTTTTTTTTTTTTTTTTTTTTTTTTTTTTTTTTTTTTTTTTTTTTTTTTTTTTTGATTAAGCCAAGGTTCCCCG  \n",
            "T =  CCCATAGGTGCGGTAGCC\n"
          ],
          "name": "stdout"
        }
      ]
    },
    {
      "cell_type": "code",
      "metadata": {
        "id": "XvFnVBPCOPWO"
      },
      "source": [
        "# Global alignment matrix scores\n",
        "def matrix_scores_global(seq1, seq2, match_score, mismatch_score, gap_score):\n",
        "  #Create empty matrix A with rows indexed 0..n and columns indexed 0..m\n",
        "  #Initialize A[i,0] = A[0, j] = 0 and for each i=0..n and j=0.. n\n",
        "  A = np.ones((len(seq1)+1, len(seq2)+1), np.int)*(-np.inf)\n",
        "\n",
        "  A[0][0] = 0\n",
        "\n",
        "  #main loop\n",
        "  for i in range(1, A.shape[0]):\n",
        "    for j in range(1, A.shape[1]):\n",
        "      match   = A[i - 1, j - 1] + (match_score if seq1[i - 1] == seq2[j - 1] else mismatch_score)\n",
        "      delete  = A[i - 1, j] + gap_score\n",
        "      insert  = A[i, j - 1] + gap_score\n",
        "\n",
        "      score = max(match, delete, insert)\n",
        "\n",
        "      A[i,j] = score\n",
        "\n",
        "  return A[-1,-1]"
      ],
      "execution_count": null,
      "outputs": []
    },
    {
      "cell_type": "code",
      "metadata": {
        "colab": {
          "base_uri": "https://localhost:8080/"
        },
        "id": "CChFNMmJOR4M",
        "outputId": "b2c406ab-6c43-4ccb-cb0f-336f3802e065"
      },
      "source": [
        "max_score = matrix_scores_global(S1, T, matchScore, mismatchScore, gapScore)\n",
        "print(\"\\nscore is \", max_score, \"for \\nS = \", S1, \" \\nT = \", T)\n"
      ],
      "execution_count": null,
      "outputs": [
        {
          "output_type": "stream",
          "text": [
            "\n",
            "score is  -431.0 for \n",
            "S =  TTTTTTTTTTTTTTTTTTTTTTTTTTTTTTTTTTTTTTTTTTTTTTTTTTTTTTTTTTTTTTTTTTTTTTTTTTTTTTTTTTTTTTTTTTTTTTTTTTTTTTTTTTTTTTTTTTTTTTTTTTTTTTTTTTTTTTTTTTTTTTTGATTAAGCCAAGGTTCCCCG  \n",
            "T =  CCCATAGGTGCGGTAGCC\n"
          ],
          "name": "stdout"
        }
      ]
    }
  ]
}