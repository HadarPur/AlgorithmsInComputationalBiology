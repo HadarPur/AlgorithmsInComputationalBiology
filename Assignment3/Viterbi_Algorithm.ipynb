{
  "nbformat": 4,
  "nbformat_minor": 0,
  "metadata": {
    "colab": {
      "name": "Copy of Viterbi Algorithm",
      "provenance": [],
      "collapsed_sections": []
    },
    "kernelspec": {
      "name": "python3",
      "display_name": "Python 3"
    }
  },
  "cells": [
    {
      "cell_type": "markdown",
      "metadata": {
        "id": "jzsSvNmsB2I1"
      },
      "source": [
        "## **** Viterbi ****\n",
        "\n",
        "Submit:\n",
        "*   Ilay Anais\n",
        "*   Hadar Pur\n"
      ]
    },
    {
      "cell_type": "markdown",
      "metadata": {
        "id": "EWkSLH-TCVmG"
      },
      "source": [
        "# **** Imports ****"
      ]
    },
    {
      "cell_type": "code",
      "metadata": {
        "id": "PmE2dMMICaTb"
      },
      "source": [
        "import numpy as np\n",
        "import itertools\n",
        "import math\n",
        "import enum"
      ],
      "execution_count": null,
      "outputs": []
    },
    {
      "cell_type": "markdown",
      "metadata": {
        "id": "DqFw4YqLA7Mt"
      },
      "source": [
        "**Section D:**\n",
        "\n",
        "Implement a program for the Viterbi algorithm on this HMM.\n",
        "\n",
        "• Your program should receive a sequence over the alphabet A,C,G,T as input and produce the sequence of most likely annotations (hidden states).\n",
        "\n",
        "• The transition and emission probabilities may be hard coded into the program, and you may also hard code the input DNA sequence, but make sure it is easy enough to change the input sequence when needed.\n",
        "\n",
        "• The program should output the most probable sequence of states given the input sequence and the log-probability of the hidden state jointly with the data (log(P(X,S|HMM))).\n",
        "\n",
        "• Make sure that your program performs calculations using log-probabilities (use natural log (ln()) as shown in Lecture #6).\n",
        "\n",
        "• You may assume that the first base in the sequence is intergenic.\n",
        "\n",
        "• Submit your documented code in an appendix file."
      ]
    },
    {
      "cell_type": "markdown",
      "metadata": {
        "id": "dioXp1uLDCJz"
      },
      "source": [
        "## **** Global vars ****\n"
      ]
    },
    {
      "cell_type": "code",
      "metadata": {
        "id": "_1jyBzhWCiOn"
      },
      "source": [
        "S = 'CCATCGCACTCCGATGTGGCCGGTGCTCACGTTGCCT'\n",
        "\n",
        "#Bases\n",
        "Bases = {\"A\": 0, \"C\": 1, \"G\": 2, \"T\": 3}\n",
        "\n",
        "#States\n",
        "States = {\"S1\":0, \"S2\": 1, \"S3\": 2, \"S4\": 3, \"S5\": 4, \"S6\": 5}\n",
        "\n",
        "#Emmissions matrix\n",
        "model_emissions = np.zeros((len(States),len(Bases)))\n",
        "\n",
        "#Transitions matrix\n",
        "model_transitions = np.zeros((len(States),len(States)))\n",
        "\n",
        "#Emmissions matrix\n",
        "new_model_emissions = np.zeros((len(States),len(Bases)))"
      ],
      "execution_count": null,
      "outputs": []
    },
    {
      "cell_type": "markdown",
      "metadata": {
        "id": "NcZTDdA5EVoK"
      },
      "source": [
        "## **** HMM Model ****\n"
      ]
    },
    {
      "cell_type": "code",
      "metadata": {
        "colab": {
          "base_uri": "https://localhost:8080/"
        },
        "id": "Sel7Ks-5EXJK",
        "outputId": "27132772-7c58-4021-8b08-467b3ed88678"
      },
      "source": [
        "#Emmissions matrix setup\n",
        "def set_emission_table():\n",
        "  eps = 2.220446049250313e-16\n",
        "\n",
        "  model_emissions[States['S1']][Bases['A']] = np.log(0.3)\n",
        "  model_emissions[States['S1']][Bases['C']] = np.log(0.2)\n",
        "  model_emissions[States['S1']][Bases['G']] = np.log(0.2)\n",
        "  model_emissions[States['S1']][Bases['T']] = np.log(0.3)\n",
        "\n",
        "  model_emissions[States['S2']][Bases['A']] = np.log(1)\n",
        "  model_emissions[States['S2']][Bases['C']] = np.log(eps)\n",
        "  model_emissions[States['S2']][Bases['G']] = np.log(eps)\n",
        "  model_emissions[States['S2']][Bases['T']] = np.log(eps)\n",
        "\n",
        "  model_emissions[States['S3']][Bases['A']] = np.log(eps)\n",
        "  model_emissions[States['S3']][Bases['C']] = np.log(0.4)\n",
        "  model_emissions[States['S3']][Bases['G']] = np.log(0.4)\n",
        "  model_emissions[States['S3']][Bases['T']] = np.log(0.2)\n",
        "\n",
        "  model_emissions[States['S4']][Bases['A']] = np.log(eps)\n",
        "  model_emissions[States['S4']][Bases['C']] = np.log(0.4)\n",
        "  model_emissions[States['S4']][Bases['G']] = np.log(0.4)\n",
        "  model_emissions[States['S4']][Bases['T']] = np.log(0.2)\n",
        "\n",
        "  model_emissions[States['S5']][Bases['A']] = np.log(eps)\n",
        "  model_emissions[States['S5']][Bases['C']] = np.log(0.4)\n",
        "  model_emissions[States['S5']][Bases['G']] = np.log(0.4)\n",
        "  model_emissions[States['S5']][Bases['T']] = np.log(0.2)\n",
        "\n",
        "  model_emissions[States['S6']][Bases['A']] = np.log(eps)\n",
        "  model_emissions[States['S6']][Bases['C']] = np.log(eps)\n",
        "  model_emissions[States['S6']][Bases['G']] = np.log(eps)\n",
        "  model_emissions[States['S6']][Bases['T']] = np.log(1)\n",
        "\n",
        "#Transitions matrix setup\n",
        "def set_transition_table():\n",
        "  eps = 2.220446049250313e-16\n",
        "  \n",
        "  model_transitions[States['S1']][States['S1']] = np.log(0.95)\n",
        "  model_transitions[States['S1']][States['S2']] = np.log(0.05)\n",
        "  model_transitions[States['S1']][States['S3']] = np.log(eps)\n",
        "  model_transitions[States['S1']][States['S4']] = np.log(eps)\n",
        "  model_transitions[States['S1']][States['S5']] = np.log(eps)\n",
        "  model_transitions[States['S1']][States['S6']] = np.log(eps)\n",
        "\n",
        "  model_transitions[States['S2']][States['S1']] = np.log(eps)\n",
        "  model_transitions[States['S2']][States['S2']] = np.log(eps)\n",
        "  model_transitions[States['S2']][States['S3']] = np.log(1)\n",
        "  model_transitions[States['S2']][States['S4']] = np.log(eps)\n",
        "  model_transitions[States['S2']][States['S5']] = np.log(eps)\n",
        "  model_transitions[States['S2']][States['S6']] = np.log(eps)\n",
        "\n",
        "  model_transitions[States['S3']][States['S1']] = np.log(eps)\n",
        "  model_transitions[States['S3']][States['S2']] = np.log(eps)\n",
        "  model_transitions[States['S3']][States['S3']] = np.log(eps)\n",
        "  model_transitions[States['S3']][States['S4']] = np.log(1)\n",
        "  model_transitions[States['S3']][States['S5']] = np.log(eps)\n",
        "  model_transitions[States['S3']][States['S6']] = np.log(eps)\n",
        "\n",
        "  model_transitions[States['S4']][States['S1']] = np.log(eps)\n",
        "  model_transitions[States['S4']][States['S2']] = np.log(eps)\n",
        "  model_transitions[States['S4']][States['S3']] = np.log(eps)\n",
        "  model_transitions[States['S4']][States['S4']] = np.log(eps)\n",
        "  model_transitions[States['S4']][States['S5']] = np.log(1)\n",
        "  model_transitions[States['S4']][States['S6']] = np.log(eps)\n",
        "\n",
        "  model_transitions[States['S5']][States['S1']] = np.log(eps)\n",
        "  model_transitions[States['S5']][States['S2']] = np.log(eps)\n",
        "  model_transitions[States['S5']][States['S3']] = np.log(0.8)\n",
        "  model_transitions[States['S5']][States['S4']] = np.log(eps)\n",
        "  model_transitions[States['S5']][States['S5']] = np.log(eps)\n",
        "  model_transitions[States['S5']][States['S6']] = np.log(0.2)\n",
        "\n",
        "  model_transitions[States['S6']][States['S1']] = np.log(0.95)\n",
        "  model_transitions[States['S6']][States['S2']] = np.log(0.05)\n",
        "  model_transitions[States['S6']][States['S3']] = np.log(eps)\n",
        "  model_transitions[States['S6']][States['S4']] = np.log(eps)\n",
        "  model_transitions[States['S6']][States['S5']] = np.log(eps)\n",
        "  model_transitions[States['S6']][States['S6']] = np.log(eps)\n",
        "\n",
        "print(\"Bases: \", Bases)\n",
        "\n",
        "print(\"\\nStates: \", States)\n",
        "\n",
        "set_emission_table()\n",
        "set_transition_table()\n",
        "\n",
        "print(\"\\nEmissions table: \")\n",
        "print(model_emissions)\n",
        "\n",
        "print(\"\\nTransitions table: \")\n",
        "print(model_transitions)"
      ],
      "execution_count": null,
      "outputs": [
        {
          "output_type": "stream",
          "text": [
            "Bases:  {'A': 0, 'C': 1, 'G': 2, 'T': 3}\n",
            "\n",
            "States:  {'S1': 0, 'S2': 1, 'S3': 2, 'S4': 3, 'S5': 4, 'S6': 5}\n",
            "\n",
            "Emissions table: \n",
            "[[ -1.2039728   -1.60943791  -1.60943791  -1.2039728 ]\n",
            " [  0.         -36.04365339 -36.04365339 -36.04365339]\n",
            " [-36.04365339  -0.91629073  -0.91629073  -1.60943791]\n",
            " [-36.04365339  -0.91629073  -0.91629073  -1.60943791]\n",
            " [-36.04365339  -0.91629073  -0.91629073  -1.60943791]\n",
            " [-36.04365339 -36.04365339 -36.04365339   0.        ]]\n",
            "\n",
            "Transitions table: \n",
            "[[ -0.05129329  -2.99573227 -36.04365339 -36.04365339 -36.04365339\n",
            "  -36.04365339]\n",
            " [-36.04365339 -36.04365339   0.         -36.04365339 -36.04365339\n",
            "  -36.04365339]\n",
            " [-36.04365339 -36.04365339 -36.04365339   0.         -36.04365339\n",
            "  -36.04365339]\n",
            " [-36.04365339 -36.04365339 -36.04365339 -36.04365339   0.\n",
            "  -36.04365339]\n",
            " [-36.04365339 -36.04365339  -0.22314355 -36.04365339 -36.04365339\n",
            "   -1.60943791]\n",
            " [ -0.05129329  -2.99573227 -36.04365339 -36.04365339 -36.04365339\n",
            "  -36.04365339]]\n"
          ],
          "name": "stdout"
        }
      ]
    },
    {
      "cell_type": "markdown",
      "metadata": {
        "id": "d_1HG21JDdaB"
      },
      "source": [
        "## **** Viterbi Algorithm ****\n"
      ]
    },
    {
      "cell_type": "code",
      "metadata": {
        "id": "sKfxMWd6DYkE"
      },
      "source": [
        "def reconstruct_max_prob_annotation(seq, viterbi_matrix, viterbi_matrix_pointers):\n",
        "  # Finding cell V[n,j] with highest value\n",
        "  current_state = \"S1\"\n",
        "  max_prob_annotation = -np.inf\n",
        "\n",
        "  for state in States:\n",
        "    prob = viterbi_matrix[States[state], len(seq)-1]\n",
        "    if prob > max_prob_annotation:\n",
        "      max_prob_annotation = prob\n",
        "      current_state = state\n",
        "  \n",
        "  #Traceback from max_prob_annotation\n",
        "  annotation = \"\" + current_state\n",
        "  emission = \"\" + seq[-1]\n",
        "  for i in reversed(range(1, len(seq))):\n",
        "    current_state = viterbi_matrix_pointers[States[current_state], i]\n",
        "    annotation = current_state + \" \" + annotation\n",
        "    emission = seq[i-1] + \"  \" +  emission\n",
        "\n",
        "  print(\"\\nViterbi's max-prob annotation\")\n",
        "  print(annotation)\n",
        "  print(emission)\n",
        "  print(\"max log(P(S|X,HMM)) = \", max_prob_annotation)\n",
        "  print(\"max P(S|X,HMM) = \", math.exp(max_prob_annotation))\n",
        "\n",
        "\n",
        "def viterbiAlg(seq, emissions_matrix, transitions_matrix):\n",
        "  # initialize viterbi matrix\n",
        "  viterbi_matrix = np.zeros((len(States),len(seq)))\n",
        "  viterbi_matrix_pointers = np.ndarray((len(States), len(seq)), dtype = object)\n",
        "\n",
        "  for j in States:\n",
        "    viterbi_matrix[States[j]][0] = -np.inf\n",
        "\n",
        "  viterbi_matrix[States['S1']][0] = emissions_matrix[States['S1'], Bases[seq[0]]] \n",
        "  viterbi_matrix_pointers[States['S1']][0] = 'S1'\n",
        "\n",
        "  for i in range(1, len(seq)):\n",
        "    for j in States:\n",
        "      viterbi_matrix[States[j], i] = max([viterbi_matrix[States[l], i-1] + transitions_matrix[States[l], States[j]] for l in States])\n",
        "      viterbi_matrix[States[j], i] += emissions_matrix[States[j], Bases[seq[i]]]\n",
        "\n",
        "      for k in States:\n",
        "        viterb = viterbi_matrix[States[k], i-1]\n",
        "        transition = transitions_matrix[States[k], States[j]]\n",
        "        emmision = emissions_matrix[States[j], Bases[seq[i]]]\n",
        "        \n",
        "        if viterbi_matrix[States[j], i] == viterb + transition + emmision:\n",
        "          viterbi_matrix_pointers[States[j]][i] = k\n",
        "\n",
        "  return reconstruct_max_prob_annotation(seq, viterbi_matrix, viterbi_matrix_pointers)"
      ],
      "execution_count": null,
      "outputs": []
    },
    {
      "cell_type": "markdown",
      "metadata": {
        "id": "oDSZNI5eaIyX"
      },
      "source": [
        "**Section E:**\n",
        "\n",
        "Run your program on the sequence specified in (a) above. Which of the possible paths is the most likely, and what is its log-probability?"
      ]
    },
    {
      "cell_type": "code",
      "metadata": {
        "colab": {
          "base_uri": "https://localhost:8080/"
        },
        "id": "SzE_Axy9aJ4s",
        "outputId": "b77b4336-dd97-4f06-a12d-ca7eca9187e9"
      },
      "source": [
        "viterbiAlg(S, model_emissions, model_transitions)"
      ],
      "execution_count": null,
      "outputs": [
        {
          "output_type": "stream",
          "text": [
            "\n",
            "Viterbi's max-prob annotation\n",
            "S1 S1 S1 S1 S1 S1 S1 S1 S1 S1 S1 S1 S1 S2 S3 S4 S5 S3 S4 S5 S3 S4 S5 S3 S4 S5 S6 S1 S2 S3 S4 S5 S3 S4 S5 S3 S4\n",
            "C  C  A  T  C  G  C  A  C  T  C  C  G  A  T  G  T  G  G  C  C  G  G  T  G  C  T  C  A  C  G  T  T  G  C  C  T\n",
            "max log(P(S|X,HMM)) =  -52.77840110563882\n",
            "max P(S|X,HMM) =  1.1984823322410419e-23\n"
          ],
          "name": "stdout"
        }
      ]
    },
    {
      "cell_type": "markdown",
      "metadata": {
        "id": "cPZ_PdZUpg7_"
      },
      "source": [
        "## **** Posterior-decoding Algorithm for HMM ****\n"
      ]
    },
    {
      "cell_type": "markdown",
      "metadata": {
        "id": "Ttbxm_WHoxpt"
      },
      "source": [
        "**Section F:**\n",
        "\n",
        "Implement a program that computes a posterior-decoding for this HMM.\n",
        "\n",
        "• Your program should receive a sequence over the alphabet A,C,G,T as input and produce for each position i along the sequence the HMM state s with highest posterior probability for that position: P(Si=s|X,HMM).\n",
        "\n",
        "• The program should print for each position the state and its posterior conditional probability (values should sum to 1 across states), and also print the log likelihood for the entire sequence (log(P(X|HMM))).\n",
        "\n",
        "• Do this by implementing procedures for computing the forward and backward matrices, and follow the coding guidelines specified in (d) above. Namely, make sure that your program performs calculations using log- probabilities.\n",
        "\n",
        "• Make use of the technique presented in Lecture #6 to compute log-of-sum- of-exponents. Submit your documented code in an appendix file.\n",
        "\n",
        "Debugging tip:\n",
        "\n",
        "• Start by implementing a version of the forward and backward algorithms that use standard probability calculations (without using the log-of-sum-of- exponents trick).\n",
        "\n",
        "• Validate your calculations by making sure that the same value of the likelihood is retrieved by taking the inner product of every column of the Forward matrix with its counterpart in the Backward matrix.\n",
        "\n",
        "• Apply the log-of-sum-of-exponents trick to each algorithm and make sure that the obtained values are logs of the original ones."
      ]
    },
    {
      "cell_type": "code",
      "metadata": {
        "id": "XTSSDC5IpEbH"
      },
      "source": [
        "def forwardAlg(seq, emissions_matrix, transitions_matrix):\n",
        "  # forward matrix\n",
        "  forward_matrix = np.zeros((len(States),len(seq)))\n",
        "  \n",
        "  # f[0,j] = -∞ for ,j>0\n",
        "  for j in States:\n",
        "    forward_matrix[States[j]][0] = -np.inf\n",
        "\n",
        "  forward_matrix[States['S1']][0] = emissions_matrix[States['S1'], Bases[seq[0]]]\n",
        "\n",
        "  for i in range(1, len(seq)):\n",
        "    for j in States:\n",
        "      a_max = max([forward_matrix[States[l], i-1] + transitions_matrix[States[l], States[j]] for l in States])\n",
        "\n",
        "      for k in States:\n",
        "        a_k = forward_matrix[States[k], i-1] + transitions_matrix[States[k], States[j]]\n",
        "        b_k = a_k - a_max\n",
        "        forward_matrix[States[j], i] += np.exp(b_k)\n",
        "      \n",
        "      #log(∑l exp(al)) = log(∑l exp(amax + bl )) = log(exp(amax)∑l exp(bl)) = amax + log(∑l exp(bl))\n",
        "      forward_matrix[States[j], i] = np.log(forward_matrix[States[j], i]) + a_max + emissions_matrix[States[j], Bases[seq[i]]] \n",
        "  \n",
        "  return forward_matrix\n",
        "\n",
        "def backwardAlg(seq, emissions_matrix, transitions_matrix):\n",
        "  # backward matrix\n",
        "  backward_matrix = np.zeros((len(States),len(seq)))\n",
        "\n",
        "  for i in range(len(seq) - 2, -1, -1):\n",
        "    for j in States:\n",
        "      a_max = max([backward_matrix[States[l], i+1] + transitions_matrix[States[j], States[l]] + emissions_matrix[States[l], Bases[seq[i+1]]]for l in States])\n",
        "\n",
        "      for k in States:\n",
        "        a_k = backward_matrix[States[k], i+1] + transitions_matrix[States[j], States[k]] + emissions_matrix[States[k], Bases[seq[i+1]]]\n",
        "        b_k = a_k - a_max\n",
        "        backward_matrix[States[j], i] += np.exp(b_k)\n",
        "\n",
        "      #log(∑l exp(al)) = log(∑l exp(amax + bl )) = log(exp(amax)∑l exp(bl)) = amax + log(∑l exp(bl))\n",
        "      backward_matrix[States[j], i] = np.log(backward_matrix[States[j], i]) + a_max\n",
        "  \n",
        "  return backward_matrix\n",
        "\n",
        "def likelihoodAlgForward(seq, forward_matrix):\n",
        "  print(\"\\nlikelihoodAlgForward\")\n",
        "  max_likelihoond = 0\n",
        "  a_max = max([forward_matrix[States[j], len(seq) - 1] for j in States])\n",
        "\n",
        "  for k in States:\n",
        "    a_k = forward_matrix[States[k], len(seq) - 1]\n",
        "    b_k = a_k - a_max\n",
        "    max_likelihoond += np.exp(b_k)\n",
        "\n",
        "  max_likelihoond = np.log(max_likelihoond) + a_max\n",
        "  print(\"likelihood log(P(X|HMM)) = \", max_likelihoond)\n",
        "  print(\"likelihood P(X|HMM) = \", math.exp(max_likelihoond))\n",
        "\n",
        "def likelihoodAlgBackward(seq, backward_matrix, transitions_matrix, emissions_matrix):\n",
        "  print(\"\\nlikelihoodAlgBackward\")\n",
        "  max_likelihoond = 0\n",
        "    \n",
        "  for j in range(1, len(States)):\n",
        "    backward_matrix[j][0] = -np.inf\n",
        "\n",
        "  a_max = max([backward_matrix[States[j], 0] + emissions_matrix[States[j], Bases[seq[0]]] for j in States])\n",
        "  for k in States:\n",
        "    a_k = backward_matrix[States[k], 0] + emissions_matrix[States[k], Bases[seq[0]]]\n",
        "    b_k = a_k - a_max\n",
        "    max_likelihoond += np.exp(b_k)\n",
        "\n",
        "  max_likelihoond = np.log(max_likelihoond) + a_max\n",
        "  print(\"likelihood log(P(X|HMM)) = \", max_likelihoond)\n",
        "  print(\"likelihood P(X|HMM) = \", math.exp(max_likelihoond))\n",
        "\n",
        "def computeMaximumAPosterioriProbability(seq, forward_matrix, backward_matrix):\n",
        "  # Objective: for a given sequence of observed of symbols X = X1...Xn and index i=1..n, compute the probability P(X , Si=sj |HMM) = ∑S|Si=sj P(X,S|HMM) for every sj\n",
        "  # We want to sum over the probabilities of all paths in the decoding matrix that pass through cell [i,j]\n",
        "  print(\"\\nMaximum A-Posteriori Probability:\")\n",
        "\n",
        "  annotation = \"\"\n",
        "  emission = \"\"\n",
        "  probabilities = \"\"\n",
        "\n",
        "  for i in range(len(seq) - 1, -1, -1):\n",
        "    max_state = 'S1'\n",
        "    max_prob = -np.inf\n",
        "\n",
        "    # find max\n",
        "    for j in States:\n",
        "      prob = forward_matrix[States[j]][i] + backward_matrix[States[j]][i]\n",
        "      if prob > max_prob:\n",
        "        max_prob = prob\n",
        "        max_state = j\n",
        "\n",
        "    annotation = max_state + \" \" + annotation\n",
        "    emission = seq[i] + \"  \" + emission\n",
        "\n",
        "    prob_score = np.exp(forward_matrix[States[max_state]][i]) * np.exp(backward_matrix[States[max_state]][i])\n",
        "    total_prob_score = 0\n",
        "\n",
        "    for k in States:\n",
        "      total_prob_score += np.exp(forward_matrix[States[k]][i]) * np.exp(backward_matrix[States[k]][i])\n",
        "\n",
        "    prob_score = prob_score / total_prob_score\n",
        "    probabilities = f\"P(S_{i+1} = {max_state}|X,HMM) = {prob_score}\\n\" + probabilities\n",
        "\n",
        "  print(probabilities)\n",
        "  print(\"\\n\")\n",
        "  print(annotation)\n",
        "  print(emission)\n"
      ],
      "execution_count": null,
      "outputs": []
    },
    {
      "cell_type": "markdown",
      "metadata": {
        "id": "z9WJqU4sIYDM"
      },
      "source": [
        "**Section G:**\n",
        "\n",
        "Run your program from (f) on the sequences pecified in (a) above.\n",
        "\n",
        "Whatisthe most likely state for each position in the sequence? Compare your results to the ones obtained in (e)."
      ]
    },
    {
      "cell_type": "code",
      "metadata": {
        "id": "lBvAYXBcqTQ0",
        "colab": {
          "base_uri": "https://localhost:8080/"
        },
        "outputId": "85f5033e-4212-45cb-93e8-c00adff5f2fe"
      },
      "source": [
        "forwardMat = forwardAlg(S, model_emissions, model_transitions) \n",
        "# print(\"forward matrix: \", forwardMat)\n",
        "backwardMat = backwardAlg(S, model_emissions, model_transitions) \n",
        "# print(\"\\nbackward matrix: \", backwardMat)\n",
        "likelihoodAlgForward(S, forwardMat)\n",
        "likelihoodAlgBackward(S, backwardMat, model_transitions, model_emissions)\n",
        "computeMaximumAPosterioriProbability(S, forwardMat, backwardMat)\n"
      ],
      "execution_count": null,
      "outputs": [
        {
          "output_type": "stream",
          "text": [
            "\n",
            "likelihoodAlgForward\n",
            "likelihood log(P(X|HMM)) =  -51.77951793226804\n",
            "likelihood P(X|HMM) =  3.2541763644144575e-23\n",
            "\n",
            "likelihoodAlgBackward\n",
            "likelihood log(P(X|HMM)) =  -51.77951793226803\n",
            "likelihood P(X|HMM) =  3.254176364414504e-23\n",
            "\n",
            "Maximum A-Posteriori Probability:\n",
            "P(S_1 = S1|X,HMM) = 1.0\n",
            "P(S_2 = S1|X,HMM) = 1.0\n",
            "P(S_3 = S1|X,HMM) = 0.9999999999999982\n",
            "P(S_4 = S1|X,HMM) = 0.9999999999999974\n",
            "P(S_5 = S1|X,HMM) = 0.9999999999999983\n",
            "P(S_6 = S1|X,HMM) = 0.9999999999999986\n",
            "P(S_7 = S1|X,HMM) = 0.9999999999999986\n",
            "P(S_8 = S1|X,HMM) = 0.999999999999983\n",
            "P(S_9 = S1|X,HMM) = 0.9999999999999827\n",
            "P(S_10 = S1|X,HMM) = 0.9999999999999819\n",
            "P(S_11 = S1|X,HMM) = 0.9999999999999847\n",
            "P(S_12 = S1|X,HMM) = 0.9999999999999847\n",
            "P(S_13 = S1|X,HMM) = 0.999999999999985\n",
            "P(S_14 = S2|X,HMM) = 0.9612537613310652\n",
            "P(S_15 = S3|X,HMM) = 0.9612537613310734\n",
            "P(S_16 = S4|X,HMM) = 0.9612537613310747\n",
            "P(S_17 = S5|X,HMM) = 0.9612537613310755\n",
            "P(S_18 = S3|X,HMM) = 0.9612537613310772\n",
            "P(S_19 = S4|X,HMM) = 0.9612537613310779\n",
            "P(S_20 = S5|X,HMM) = 0.9612537613310783\n",
            "P(S_21 = S3|X,HMM) = 0.9612537613310784\n",
            "P(S_22 = S4|X,HMM) = 0.9612537613310788\n",
            "P(S_23 = S5|X,HMM) = 0.9612537613310788\n",
            "P(S_24 = S3|X,HMM) = 0.6856819396206495\n",
            "P(S_25 = S4|X,HMM) = 0.6856819396206496\n",
            "P(S_26 = S5|X,HMM) = 0.6856819396206495\n",
            "P(S_27 = S6|X,HMM) = 0.6856819396206422\n",
            "P(S_28 = S1|X,HMM) = 0.9999999999999937\n",
            "P(S_29 = S2|X,HMM) = 0.6652848561799922\n",
            "P(S_30 = S3|X,HMM) = 0.6652848561799958\n",
            "P(S_31 = S4|X,HMM) = 0.6652848561799961\n",
            "P(S_32 = S5|X,HMM) = 0.6652848561799946\n",
            "P(S_33 = S3|X,HMM) = 0.5371156901773128\n",
            "P(S_34 = S4|X,HMM) = 0.5371156901773116\n",
            "P(S_35 = S5|X,HMM) = 0.5371156901773114\n",
            "P(S_36 = S3|X,HMM) = 0.5371156901773111\n",
            "P(S_37 = S4|X,HMM) = 0.537115690177309\n",
            "\n",
            "\n",
            "\n",
            "S1 S1 S1 S1 S1 S1 S1 S1 S1 S1 S1 S1 S1 S2 S3 S4 S5 S3 S4 S5 S3 S4 S5 S3 S4 S5 S6 S1 S2 S3 S4 S5 S3 S4 S5 S3 S4 \n",
            "C  C  A  T  C  G  C  A  C  T  C  C  G  A  T  G  T  G  G  C  C  G  G  T  G  C  T  C  A  C  G  T  T  G  C  C  T  \n"
          ],
          "name": "stdout"
        }
      ]
    },
    {
      "cell_type": "markdown",
      "metadata": {
        "id": "TICRmSsml303"
      },
      "source": [
        "**Section H:**\n",
        "\n",
        "After further study of this virus, the scientists discovered that in some occasions its protein coding genes do contain A’s. \n",
        "\n",
        "So, they changed the model to allow A’s in genes with frequency of 5%, and T’s with frequency 15%. Other aspects of the model remained unchanged. \n",
        "\n",
        "Change your programs from (d) and (f) to reflect this model change and re-run them on the sequence specified in (a). Report the results. \n",
        "\n",
        "Did anything change?\n"
      ]
    },
    {
      "cell_type": "markdown",
      "metadata": {
        "id": "KHrJpwVKmfOj"
      },
      "source": [
        "## **** New HMM Model ****\n"
      ]
    },
    {
      "cell_type": "code",
      "metadata": {
        "colab": {
          "base_uri": "https://localhost:8080/"
        },
        "id": "8jC9vhalmIr1",
        "outputId": "0c11ecd2-eadf-420f-8ad5-f0006f3fdbcc"
      },
      "source": [
        "#Emmissions matrix setup\n",
        "def set_new_emission_table():\n",
        "  eps = 2.220446049250313e-16\n",
        "\n",
        "  new_model_emissions[States['S1']][Bases['A']] = np.log(0.3)\n",
        "  new_model_emissions[States['S1']][Bases['C']] = np.log(0.2)\n",
        "  new_model_emissions[States['S1']][Bases['G']] = np.log(0.2)\n",
        "  new_model_emissions[States['S1']][Bases['T']] = np.log(0.3)\n",
        "\n",
        "  new_model_emissions[States['S2']][Bases['A']] = np.log(1)\n",
        "  new_model_emissions[States['S2']][Bases['C']] = np.log(eps)\n",
        "  new_model_emissions[States['S2']][Bases['G']] = np.log(eps)\n",
        "  new_model_emissions[States['S2']][Bases['T']] = np.log(eps)\n",
        "\n",
        "  new_model_emissions[States['S3']][Bases['A']] = np.log(0.05)\n",
        "  new_model_emissions[States['S3']][Bases['C']] = np.log(0.4)\n",
        "  new_model_emissions[States['S3']][Bases['G']] = np.log(0.4)\n",
        "  new_model_emissions[States['S3']][Bases['T']] = np.log(0.15)\n",
        "\n",
        "  new_model_emissions[States['S4']][Bases['A']] = np.log(0.05)\n",
        "  new_model_emissions[States['S4']][Bases['C']] = np.log(0.4)\n",
        "  new_model_emissions[States['S4']][Bases['G']] = np.log(0.4)\n",
        "  new_model_emissions[States['S4']][Bases['T']] = np.log(0.15)\n",
        "\n",
        "  new_model_emissions[States['S5']][Bases['A']] = np.log(0.05)\n",
        "  new_model_emissions[States['S5']][Bases['C']] = np.log(0.4)\n",
        "  new_model_emissions[States['S5']][Bases['G']] = np.log(0.4)\n",
        "  new_model_emissions[States['S5']][Bases['T']] = np.log(0.15)\n",
        "\n",
        "  new_model_emissions[States['S6']][Bases['A']] = np.log(eps)\n",
        "  new_model_emissions[States['S6']][Bases['C']] = np.log(eps)\n",
        "  new_model_emissions[States['S6']][Bases['G']] = np.log(eps)\n",
        "  new_model_emissions[States['S6']][Bases['T']] = np.log(1)\n",
        "\n",
        "#Transitions matrix initialize again\n",
        "model_transitions = np.zeros((len(States),len(States)))\n",
        "\n",
        "print(\"Bases: \", Bases)\n",
        "\n",
        "print(\"\\nStates: \", States)\n",
        "\n",
        "set_new_emission_table()\n",
        "set_transition_table()\n",
        "\n",
        "print(\"\\nEmissions table: \")\n",
        "print(new_model_emissions)\n",
        "\n",
        "print(\"\\nTransitions table: \")\n",
        "print(model_transitions)\n",
        "\n",
        "\n",
        "viterbiAlg(S, new_model_emissions, model_transitions)\n",
        "\n",
        "forwardMat = forwardAlg(S, new_model_emissions, model_transitions) \n",
        "# print(\"forward matrix: \", forwardMat)\n",
        "backwardMat = backwardAlg(S, new_model_emissions, model_transitions) \n",
        "# print(\"\\nbackward matrix: \", backwardMat)\n",
        "likelihoodAlgForward(S, forwardMat)\n",
        "likelihoodAlgBackward(S, backwardMat, model_transitions, new_model_emissions)\n",
        "\n",
        "computeMaximumAPosterioriProbability(S, forwardMat, backwardMat)\n",
        "\n"
      ],
      "execution_count": null,
      "outputs": [
        {
          "output_type": "stream",
          "text": [
            "Bases:  {'A': 0, 'C': 1, 'G': 2, 'T': 3}\n",
            "\n",
            "States:  {'S1': 0, 'S2': 1, 'S3': 2, 'S4': 3, 'S5': 4, 'S6': 5}\n",
            "\n",
            "Emissions table: \n",
            "[[ -1.2039728   -1.60943791  -1.60943791  -1.2039728 ]\n",
            " [  0.         -36.04365339 -36.04365339 -36.04365339]\n",
            " [ -2.99573227  -0.91629073  -0.91629073  -1.89711998]\n",
            " [ -2.99573227  -0.91629073  -0.91629073  -1.89711998]\n",
            " [ -2.99573227  -0.91629073  -0.91629073  -1.89711998]\n",
            " [-36.04365339 -36.04365339 -36.04365339   0.        ]]\n",
            "\n",
            "Transitions table: \n",
            "[[ -0.05129329  -2.99573227 -36.04365339 -36.04365339 -36.04365339\n",
            "  -36.04365339]\n",
            " [-36.04365339 -36.04365339   0.         -36.04365339 -36.04365339\n",
            "  -36.04365339]\n",
            " [-36.04365339 -36.04365339 -36.04365339   0.         -36.04365339\n",
            "  -36.04365339]\n",
            " [-36.04365339 -36.04365339 -36.04365339 -36.04365339   0.\n",
            "  -36.04365339]\n",
            " [-36.04365339 -36.04365339  -0.22314355 -36.04365339 -36.04365339\n",
            "   -1.60943791]\n",
            " [ -0.05129329  -2.99573227 -36.04365339 -36.04365339 -36.04365339\n",
            "  -36.04365339]]\n",
            "\n",
            "Viterbi's max-prob annotation\n",
            "S1 S1 S1 S1 S1 S1 S1 S2 S3 S4 S5 S3 S4 S5 S3 S4 S5 S3 S4 S5 S3 S4 S5 S3 S4 S5 S6 S1 S1 S1 S1 S1 S1 S1 S1 S1 S1\n",
            "C  C  A  T  C  G  C  A  C  T  C  C  G  A  T  G  T  G  G  C  C  G  G  T  G  C  T  C  A  C  G  T  T  G  C  C  T\n",
            "max log(P(S|X,HMM)) =  -53.965226242952205\n",
            "max P(S|X,HMM) =  3.657632166123875e-24\n",
            "\n",
            "likelihoodAlgForward\n",
            "likelihood log(P(X|HMM)) =  -51.72913052589137\n",
            "likelihood P(X|HMM) =  3.422347136736786e-23\n",
            "\n",
            "likelihoodAlgBackward\n",
            "likelihood log(P(X|HMM)) =  -51.72913052589137\n",
            "likelihood P(X|HMM) =  3.422347136736786e-23\n",
            "\n",
            "Maximum A-Posteriori Probability:\n",
            "P(S_1 = S1|X,HMM) = 1.0\n",
            "P(S_2 = S1|X,HMM) = 0.9999999999999997\n",
            "P(S_3 = S1|X,HMM) = 0.8225236665011396\n",
            "P(S_4 = S1|X,HMM) = 0.8225236665011378\n",
            "P(S_5 = S1|X,HMM) = 0.8225236665011372\n",
            "P(S_6 = S1|X,HMM) = 0.8225236665011366\n",
            "P(S_7 = S1|X,HMM) = 0.8225236665011363\n",
            "P(S_8 = S2|X,HMM) = 0.43086615563856207\n",
            "P(S_9 = S3|X,HMM) = 0.4308661556385641\n",
            "P(S_10 = S4|X,HMM) = 0.43086615563856395\n",
            "P(S_11 = S1|X,HMM) = 0.46162621511831947\n",
            "P(S_12 = S1|X,HMM) = 0.4616262151183194\n",
            "P(S_13 = S1|X,HMM) = 0.4616262151183193\n",
            "P(S_14 = S2|X,HMM) = 0.43307759078914154\n",
            "P(S_15 = S3|X,HMM) = 0.8596166302735987\n",
            "P(S_16 = S4|X,HMM) = 0.8596166302735995\n",
            "P(S_17 = S5|X,HMM) = 0.8596166302735989\n",
            "P(S_18 = S3|X,HMM) = 0.8596166302736004\n",
            "P(S_19 = S4|X,HMM) = 0.8596166302736008\n",
            "P(S_20 = S5|X,HMM) = 0.8596166302736008\n",
            "P(S_21 = S3|X,HMM) = 0.8596166302736009\n",
            "P(S_22 = S4|X,HMM) = 0.8596166302736009\n",
            "P(S_23 = S5|X,HMM) = 0.8596166302736014\n",
            "P(S_24 = S3|X,HMM) = 0.6329163447316773\n",
            "P(S_25 = S4|X,HMM) = 0.6329163447316781\n",
            "P(S_26 = S5|X,HMM) = 0.6329163447316783\n",
            "P(S_27 = S6|X,HMM) = 0.42305928778781265\n",
            "P(S_28 = S1|X,HMM) = 0.6826353138130123\n",
            "P(S_29 = S1|X,HMM) = 0.34754377061031105\n",
            "P(S_30 = S3|X,HMM) = 0.5449486001465671\n",
            "P(S_31 = S4|X,HMM) = 0.544948600146567\n",
            "P(S_32 = S5|X,HMM) = 0.5449486001465654\n",
            "P(S_33 = S3|X,HMM) = 0.3826289708723117\n",
            "P(S_34 = S1|X,HMM) = 0.5098633998845622\n",
            "P(S_35 = S1|X,HMM) = 0.5098633998845612\n",
            "P(S_36 = S1|X,HMM) = 0.5098633998845605\n",
            "P(S_37 = S1|X,HMM) = 0.5098633998845611\n",
            "\n",
            "\n",
            "\n",
            "S1 S1 S1 S1 S1 S1 S1 S2 S3 S4 S1 S1 S1 S2 S3 S4 S5 S3 S4 S5 S3 S4 S5 S3 S4 S5 S6 S1 S1 S3 S4 S5 S3 S1 S1 S1 S1 \n",
            "C  C  A  T  C  G  C  A  C  T  C  C  G  A  T  G  T  G  G  C  C  G  G  T  G  C  T  C  A  C  G  T  T  G  C  C  T  \n"
          ],
          "name": "stdout"
        }
      ]
    }
  ]
}